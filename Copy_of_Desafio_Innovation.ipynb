{
  "nbformat": 4,
  "nbformat_minor": 0,
  "metadata": {
    "colab": {
      "name": "Copy of Desafio-Innovation.ipynb",
      "provenance": [],
      "collapsed_sections": [
        "2uOoHPiYIGS2"
      ],
      "include_colab_link": true
    },
    "kernelspec": {
      "name": "python3",
      "display_name": "Python 3"
    },
    "language_info": {
      "name": "python"
    }
  },
  "cells": [
    {
      "cell_type": "markdown",
      "metadata": {
        "id": "view-in-github",
        "colab_type": "text"
      },
      "source": [
        "<a href=\"https://colab.research.google.com/github/Aleyucra74/Colab-google-MLP-OCR/blob/main/Copy_of_Desafio_Innovation.ipynb\" target=\"_parent\"><img src=\"https://colab.research.google.com/assets/colab-badge.svg\" alt=\"Open In Colab\"/></a>"
      ]
    },
    {
      "cell_type": "markdown",
      "metadata": {
        "id": "t38wIOb0IcfM"
      },
      "source": [
        "//////////////////////////////////////////////////////////////////////////////////////////////////////////////////////////////////////////////////////////////////\n",
        "\n",
        "PARTE DE CRIAÇÃO E TREINAMENTO DO MODELO ⛲ //////////////////////////////////////////////////////////////////////////////////////////////////////////////////////////////////////////////////////////////////"
      ]
    },
    {
      "cell_type": "code",
      "metadata": {
        "id": "0r9QmfTLvdD0"
      },
      "source": [
        "%matplotlib inline"
      ],
      "execution_count": null,
      "outputs": []
    },
    {
      "cell_type": "code",
      "metadata": {
        "id": "2AkjNUfipahH"
      },
      "source": [
        "#instalando convertedor de pdf para jpeg\n",
        "!sudo apt upgrade && update\n",
        "!sudo apt install poppler-utils\n",
        "!pip install pytesseract pdf2image fuzzywuzzy poppler-utils PyMuPDF==1.18.9\n",
        "!sudo apt install tesseract-ocr\n",
        "!pip install flask-ngrok"
      ],
      "execution_count": null,
      "outputs": []
    },
    {
      "cell_type": "code",
      "metadata": {
        "id": "bw8EO2SGz-y7"
      },
      "source": [
        "!which tesseract"
      ],
      "execution_count": null,
      "outputs": []
    },
    {
      "cell_type": "code",
      "metadata": {
        "id": "04AQU_bBSjME"
      },
      "source": [
        "import pytesseract\n",
        "import cv2\n",
        "import os\n",
        "import fuzzywuzzy\n",
        "import numpy as np\n",
        "\n",
        "from fuzzywuzzy import fuzz\n",
        "from fuzzywuzzy import process\n",
        "from PIL import Image\n",
        "from pdf2image import convert_from_path"
      ],
      "execution_count": null,
      "outputs": []
    },
    {
      "cell_type": "code",
      "metadata": {
        "id": "aL-YhjzMZZma"
      },
      "source": [
        "#CRIAR AS PASTAS E SUBIR MANUALMENTE OS NFSe\n",
        "#!mkdir /content/a_notas_fiscais/\n",
        "!mkdir /content/images/\n",
        "!mkdir /content/images_grays/\n",
        "!mkdir /content/text_modelo/\n",
        "\n",
        "#DEPOIS QUE CRIAR AS PASTAS SUBA AS NOTAS FISCAIS NA a_notas_fiscais/ \n",
        "# Caminho das notas \\\\brdcvmtaxanapd\\Innovation-Grupo5$\n",
        "# Tenho umas limpas, e com o nome alterado para macae@blabla.pdf para pegar manual o nome da cidade"
      ],
      "execution_count": null,
      "outputs": []
    },
    {
      "cell_type": "code",
      "metadata": {
        "id": "xTX59UMshc_T"
      },
      "source": [
        "from google.colab import drive\n",
        "drive.mount('/content/drive')"
      ],
      "execution_count": null,
      "outputs": []
    },
    {
      "cell_type": "code",
      "metadata": {
        "id": "D4FZpDlRhAm5"
      },
      "source": [
        "import os\n",
        "\n",
        "path, dirs, files = next(os.walk('/content/drive/MyDrive/Notas-png-gray/'))\n",
        "file_count = len(files)\n",
        "print(file_count)"
      ],
      "execution_count": null,
      "outputs": []
    },
    {
      "cell_type": "code",
      "metadata": {
        "id": "65b6xmzbcOHl"
      },
      "source": [
        "#TRANSFORMANDO O PDF EM IMAGEM \n",
        "import datetime\n",
        "path_absolute = '/content/drive/MyDrive/Notas-preparadas/'\n",
        "path_absolute_images = '/content/drive/MyDrive/Notas-png/'\n",
        "# Colocar opcao para usar apenas primeira pagina                                                                                        \n",
        "for imgn in os.listdir(path_absolute):\n",
        "  try:\n",
        "    image_path = convert_from_path(path_absolute+f'{imgn}', 400,output_folder=path_absolute_images,fmt='png',output_file=f'{imgn}')\n",
        "  except:\n",
        "    pass"
      ],
      "execution_count": null,
      "outputs": []
    },
    {
      "cell_type": "code",
      "metadata": {
        "id": "jUW0VyTx_Qo_"
      },
      "source": [
        "# RECORTANDO CABECALHOS E SALVANDO EM PNG \n",
        "#from google.colab.patches import cv2_imshow\n",
        "\n",
        "path_absolute = '/content/drive/MyDrive/Notas-preparadas/'\n",
        "path_absolute_images = '/content/drive/MyDrive/Notas-png/'\n",
        "path_absolute_image_grays = '/content/drive/MyDrive/Notas-png-gray-v2/'\n",
        "main_text = ''\n",
        "\n",
        "\n",
        "#salva a imagem em cinza e ja realiza o corte do cabeçalho\n",
        "for imgn in os.listdir(path_absolute_images):\n",
        "    img = cv2.imread(path_absolute_images + f'{imgn}')\n",
        "    height, width, channels = img.shape # as vezes dá erro aqui quando há arquivos ocultos na pasta. Favor deletar pasta e rodar de novo.\n",
        "    y1=int(height*0.15)\n",
        "    x2=int(width*0.75)\n",
        "    x1=int(width*0.20)\n",
        "    gray = cv2.cvtColor(img, cv2.COLOR_BGR2GRAY)                                              \n",
        "    crop = gray[10:y1,x1:x2]\n",
        "    file = path_absolute_image_grays + f'{imgn}.png'                                      \n",
        "    cv2.imwrite(file,crop)"
      ],
      "execution_count": null,
      "outputs": []
    },
    {
      "cell_type": "code",
      "metadata": {
        "id": "4B9yD4Wl8tE1"
      },
      "source": [
        "path_absolute = '/content/drive/MyDrive/Notas-preparadas/'\n",
        "path_absolute_images = '/content/drive/MyDrive/Notas-png/'\n",
        "path_absolute_image_grays = '/content/drive/MyDrive/Notas-png-gray/'\n",
        "\n",
        "import re\n",
        "main_text = ''\n",
        "\n",
        "#preferi pegar o nome da cidade no proprio nome do arquivo por exemplo: rio_de_janeiro@blablabla.pdf\n",
        "\n",
        "for imgn in os.listdir(path_absolute_image_grays):\n",
        "    file = path_absolute_image_grays + f'{imgn}'\n",
        "    text = pytesseract.image_to_string(Image.open(file))\n",
        "    main_text = text.replace('\\n', ' ')                                                 \n",
        "    name_city=re.split(\"[@]\",f'{imgn}' )[-2]\n",
        "    \n",
        "    f=open('/content/drive/MyDrive/rep-array/main_array.txt', \"a\")     \n",
        "    f.write( \"%s§§§%s\\n\" % (main_text, name_city))             \n",
        "    f.close()\n",
        "\n",
        "#print(main_text)\n",
        "#f=open('/content/text_modelo/main_array.txt',\"r\")\n",
        "#print(f.read(20))\n",
        "\n",
        "#cv2_imshow(crop)\n"
      ],
      "execution_count": null,
      "outputs": []
    },
    {
      "cell_type": "code",
      "metadata": {
        "id": "7FH2RRS34ENk",
        "colab": {
          "base_uri": "https://localhost:8080/"
        },
        "outputId": "268052d3-0a58-4e1e-e440-2e6f9dea0c77"
      },
      "source": [
        "f=open('/content/drive/MyDrive/rep-array/main_array.txt',\"r\")\n",
        "print(f.read(2000))"
      ],
      "execution_count": null,
      "outputs": [
        {
          "output_type": "stream",
          "name": "stdout",
          "text": [
            "                 PREFEITURA MUNICIPAL DE SANTOS SECRETARIA MUNICIPAL DE FINANCAS NOTA FISCAL ELETRONICA DE SERVICO - NFS-e  No. da NFS-e substituida             21/06/2021 08:38:40 Codigo de Verificag           536892 Local da Prestaga \f§§§santos\n",
            "                PREFEITURA MUNICIPAL DE SANTOS SECRETARIA MUNICIPAL DE FINANCAS NOTA FISCAL ELETRONICA DE SERVICO - NFS-e  No. da NFS-e substituida                      21/06/2021 16:59:07 Codigo de Verificag          Local da Prestaga \f§§§santos\n",
            "                PREFEITURA MUNICIPAL DE SANTOS SECRETARIA MUNICIPAL DE FINANCAS NOTA FISCAL ELETRONICA DE SERVICO - NFS-e  No. da NFS-e substituida                      08/06/2021 17:53:55 Codigo de Verificag          Local da Prestaga \f§§§santos\n",
            "PREFEITURA MUNICIPAL DE CAMPINAS SECRETARTA MIINTCTPAI DE ETNANCAG DE CAMDINAS    \f§§§campinas\n",
            "             Numero da N  00012  Prefeitura Municipal de Vitoria Secretaria Municipal de Fazenda a Fiscal de Servicos Eletr6nica - NFS-e  me  Prestador de servicos \f§§§vitoria\n",
            "             Numero da N  Prefeitura Municipal de Vitoria Secretaria Municipal de Fazenda a Fiscal de Servicos Eletr6nica - NFS-e  Prestador de servicos \f§§§vitoria\n",
            "                PREFEITURA MUNICIPAL DE SANTOS SECRETARIA MUNICIPAL DE FINANCAS NOTA FISCAL ELETRONICA DE SERVICO - NFS-e  No. da NFS-e substituida                      31/05/2021 17:13:58 Codigo de Verificag          Local da Prestaga \f§§§santos\n",
            "PREFEITURA DO MUNICIPIO DE SAO PAULO SECRETARIA MUNICIPAL DA FAZENDA  NOTA FISCAL ELETRONICA DE SERVICOS - NFS-e RPS N° 73838, emitido em 14/06/2021  PRESTADOR DE wee  “MOC rniIp | AT AN? ATRMMNMNA FR —§ 2 dee APL AAA KRArimininal- 9% H4°O 44,    \f§§§sao_paulo\n",
            "PREFEITURA DO MUNICIPIO DE SAO PAULO SECRETARIA MUNICIPAL DA FAZENDA  NOTA FISCAL ELETRONICA DE SERVICOS - NFS-e RPS N° 73840, emitido em 14/06/2021  PRESTADOR DE wee  “MOC rniIp | AT AN? ATRMMNMNA FR —§ 2 dee APL AAA KRArimininal- 9% H4°O 44,    \f§§§sao_paulo\n",
            "Nota Fiscal de Servicos Eletrénica     Numero da Nota \n"
          ]
        }
      ]
    },
    {
      "cell_type": "code",
      "metadata": {
        "id": "3gNsScvTGlSM"
      },
      "source": [
        "#Lendo o arquivo txt\n",
        "#Transformando o dataframe para array numpy\n",
        "import pandas as pd\n",
        "\n",
        "header = ['Conteudo', 'Cidade']\n",
        "base = pd.read_csv('/content/drive/MyDrive/rep-array/main_array.txt', sep='§§§', engine='python', names=header)\n",
        "#engine='python'\n",
        "\n"
      ],
      "execution_count": null,
      "outputs": []
    },
    {
      "cell_type": "code",
      "metadata": {
        "id": "N7Tmkv7SesUb"
      },
      "source": [
        "base = base.fillna(' ') #sem isso o encoding para binario da erro por nao entender Nan"
      ],
      "execution_count": null,
      "outputs": []
    },
    {
      "cell_type": "code",
      "metadata": {
        "id": "VS55Ur2YpMHG"
      },
      "source": [
        "##Train_Test_Split\n",
        "from sklearn.model_selection import train_test_split\n",
        "from sklearn import preprocessing\n",
        "import numpy as np\n",
        "\n",
        "le = preprocessing.LabelEncoder()\n",
        "\n",
        "le.fit(base.loc[:,\"Cidade\"].unique())\n",
        "df = base.to_numpy()\n",
        "#Textos\n",
        "#df[:,0]\n",
        "#Cidades\n",
        "#df[:,1]\n",
        "\n",
        "#Shuffle the array\n",
        "np.random.shuffle(df)\n",
        "\n",
        "from sklearn.feature_extraction.text import CountVectorizer\n",
        "vectorizer = CountVectorizer(max_features=50, min_df=5, max_df=0.08)\n",
        "c1 = vectorizer.fit_transform(df[:,0]).toarray()\n",
        "\n",
        "\n",
        "#dados separados somente com os textos de cada nota\n",
        "treino, teste = train_test_split(c1, test_size=0.25, random_state=42)\n",
        "\n",
        "#dados separados somente com os nomes das cidades de cada nota\n",
        "esperado, validacao = train_test_split(df[:,1], test_size=0.25, random_state=42)"
      ],
      "execution_count": null,
      "outputs": []
    },
    {
      "cell_type": "code",
      "metadata": {
        "colab": {
          "base_uri": "https://localhost:8080/"
        },
        "id": "_XFr8VolDYry",
        "outputId": "a5b62367-3920-4252-f4dd-075a7588d00c"
      },
      "source": [
        "gabarito = vectorizer.get_feature_names_out()\n",
        "gabarito"
      ],
      "execution_count": null,
      "outputs": [
        {
          "output_type": "execute_result",
          "data": {
            "text/plain": [
              "array(['0001', '0005', '004', '02', '06', '12', '13', '15', '17', '18',\n",
              "       '19', 'alegre', 'aparecida', 'barueri', 'bernardo', 'caetano',\n",
              "       'campinas', 'campo', 'carioca', 'cidade', 'dados', 'das', 'elo',\n",
              "       'es', 'finangas', 'fortaleza', 'go', 'goiania', 'hortolandia',\n",
              "       'imperial', 'iota', 'janeiro', 'jardim', 'jundiai', 'ltda',\n",
              "       'macae', 'na', 'nfe', 'pagina', 'paulo', 'pouso', 'recife', 'rio',\n",
              "       'rua', 'santos', 'servigos', 'sorocaba', 'sul', 'telecomunicagoes',\n",
              "       'vitoria'], dtype=object)"
            ]
          },
          "metadata": {},
          "execution_count": 244
        }
      ]
    },
    {
      "cell_type": "code",
      "metadata": {
        "id": "kvPeLPR_z92f"
      },
      "source": [
        "#treino = pd.get_dummies(treino)\n",
        "#teste = pd.get_dummies(teste)\n",
        "esperado = le.transform(esperado)\n",
        "validacao = le.transform(validacao)"
      ],
      "execution_count": null,
      "outputs": []
    },
    {
      "cell_type": "code",
      "metadata": {
        "id": "wFR98d1MAfSX",
        "colab": {
          "base_uri": "https://localhost:8080/"
        },
        "outputId": "eb68ee72-3209-4644-b763-9f5e9d5c91f3"
      },
      "source": [
        "print(treino.shape)\n",
        "print(teste.shape)\n",
        "print(esperado.shape)\n",
        "print(validacao.shape)"
      ],
      "execution_count": null,
      "outputs": [
        {
          "output_type": "stream",
          "name": "stdout",
          "text": [
            "(3555, 50)\n",
            "(1186, 50)\n",
            "(3555,)\n",
            "(1186,)\n"
          ]
        }
      ]
    },
    {
      "cell_type": "code",
      "metadata": {
        "colab": {
          "base_uri": "https://localhost:8080/"
        },
        "id": "tYskGxXFfmQt",
        "outputId": "2bc80383-12e4-4355-cb0b-fbe929141a87"
      },
      "source": [
        "teste"
      ],
      "execution_count": null,
      "outputs": [
        {
          "output_type": "execute_result",
          "data": {
            "text/plain": [
              "array([[0, 0, 0, ..., 0, 0, 1],\n",
              "       [0, 0, 0, ..., 0, 0, 0],\n",
              "       [0, 0, 0, ..., 0, 0, 0],\n",
              "       ...,\n",
              "       [0, 0, 0, ..., 0, 0, 0],\n",
              "       [0, 0, 0, ..., 0, 0, 0],\n",
              "       [0, 0, 0, ..., 0, 0, 0]])"
            ]
          },
          "metadata": {},
          "execution_count": 89
        }
      ]
    },
    {
      "cell_type": "code",
      "metadata": {
        "id": "2PxcI_Let3h8"
      },
      "source": [
        "#############################################\n",
        "# SOMENTE DEPOIS (gpu para acelerar processamento)\n",
        "#############################################\n",
        "# from h2o4gpu.model_selection import train_test_split\n",
        "# from h2o4gpu.neural_network import MLPClassifier\n",
        "# from h2o4gpu.preprocessing import StandardScaler\n",
        "# from h2o4gpu.metrics import mean_squared_error, confusion_matrix, accuracy_score, precision_score, recall_score\n",
        "#############################################\n",
        "\n",
        "#Importando a técnica Multi Layer Perceptron do Sklearn\n",
        "from sklearn.model_selection import train_test_split\n",
        "from sklearn.neural_network import MLPClassifier\n",
        "from sklearn.preprocessing import StandardScaler\n",
        "from sklearn.metrics import mean_squared_error, confusion_matrix, accuracy_score, precision_score, recall_score\n",
        "from matplotlib import pyplot as plt\n",
        "from collections import defaultdict\n",
        "from datetime import datetime\n",
        "import multiprocessing\n",
        "import pandas as pd\n",
        "import numpy as np\n",
        "import joblib\n",
        "#import cudf \n",
        "#import cupy"
      ],
      "execution_count": null,
      "outputs": []
    },
    {
      "cell_type": "code",
      "metadata": {
        "id": "zDGck1QGro2N",
        "colab": {
          "base_uri": "https://localhost:8080/"
        },
        "outputId": "8eb3fc58-c052-4039-c3ea-42e0d240a26f"
      },
      "source": [
        "#Modelo Multi Layer Perceptron\n",
        "\n",
        "mlp = MLPClassifier(solver='sgd', alpha=0.001, max_iter=1000, hidden_layer_sizes=(3,6,8), learning_rate='adaptive') #2~ 3, 2~8,2~8 lbfgs\n",
        "mlp.fit(treino, esperado) # treina\n",
        "\n",
        "output = mlp.predict(teste) # testa e classifica\n",
        "\n",
        "#nao consegui fazer a maioria das variaveis de resultado funcionar -eduardo\n",
        "header = ['linhas_prc', 'iteracao','precisao','acuracia','acuracia_percent','mse','iters_to_fit','matriz_confusao','recal']\n",
        "mmlp = pd.DataFrame(np.zeros((1,9)), columns=header) \n",
        "'''mmlp['linhas_prc'].append(linhas) \n",
        "mmlp['iteracao'].append((1,2,3))\n",
        "mmlp['precisao'].append(precision_score(validacao, output))\n",
        "mmlp['acuracia'].append(accuracy_score(validacao, output, normalize=False))\n",
        "mmlp['acuracia_percent'].append(accuracy_score(validacao, output, normalize=False)/len(validacao))\n",
        "mmlp['mse'].append(mean_squared_error(validacao, output))\n",
        "mmlp['iters_to_fit'].append(mlp.n_iter_)\n",
        "mmlp['matriz_confusao'].append(confusion_matrix(validacao, output))\n",
        "mmlp['recal'].append(recall_score(validacao, output))'''\n",
        "print('acuracia:', round(accuracy_score(validacao, output, normalize=False)/len(validacao), 4), '| Iters:', mlp.n_iter_) #'| precisao:', round(precision_score(validacao, output), 4),'| Recal:', round(recall_score(validacao, output), 4),\"\"\" '| mse:', round(mean_squared_error(validacao, output), 4), \"\"\" '| MLP:', ll, '| Tempo:', datetime.now()-dt1, '| ds:', nome_output, \"\"\" )"
      ],
      "execution_count": null,
      "outputs": [
        {
          "output_type": "stream",
          "name": "stdout",
          "text": [
            "acuracia: 0.9966 | Iters: 594\n"
          ]
        }
      ]
    },
    {
      "cell_type": "code",
      "metadata": {
        "id": "KEvA_P4OvDi1"
      },
      "source": [
        "from sklearn.metrics import classification_report, confusion_matrix, accuracy_score\n",
        "#mmlp\n",
        "#output\n",
        "\n",
        "#print(confusion_matrix(teste,output))\n",
        "#print(classification_report(teste,output))\n",
        "#print(accuracy_score(teste, output))"
      ],
      "execution_count": null,
      "outputs": []
    },
    {
      "cell_type": "code",
      "metadata": {
        "id": "VaM-DZgybQxJ"
      },
      "source": [
        "#salvar no pickle e exportar para novas previsoes reais (operacao)\n",
        "#https://machinelearningmastery.com/save-load-machine-learning-models-python-scikit-learn/\n",
        "\n",
        "import pickle\n",
        "\n",
        "# save the model to disk\n",
        "#filename = 'finalized_model.sav'\n",
        "#pickle.dump(mmlp, open(filename, 'wb'))\n",
        "with open('model_pkl', 'wb') as files:\n",
        "    pickle.dump(mlp, files)"
      ],
      "execution_count": null,
      "outputs": []
    },
    {
      "cell_type": "code",
      "metadata": {
        "id": "qiPuEIUqESPl"
      },
      "source": [
        "# save the model to disk\n",
        "filename = 'finalized_model.sav'\n",
        "pickle.dump(mmlp, open(filename, 'wb'))"
      ],
      "execution_count": null,
      "outputs": []
    },
    {
      "cell_type": "code",
      "metadata": {
        "colab": {
          "base_uri": "https://localhost:8080/"
        },
        "id": "FDdwFUjn46Ls",
        "outputId": "5a7a14fe-3a2c-4322-b1ff-b61f1ee11032"
      },
      "source": [
        "from sklearn.feature_extraction.text import CountVectorizer\n",
        "str_op ='sorocaba'\n",
        "\n",
        "vectorizer2 = CountVectorizer(vocabulary=gabarito)\n",
        "dop1 = vectorizer2.transform([str_op]).toarray()\n",
        "dop1\n",
        "\n",
        "with open('model_pkl', 'rb') as training_model:\n",
        "    model = pickle.load(training_model)\n",
        "\n",
        "output2 = model.predict(dop1)\n",
        "\n",
        "output2 = le.inverse_transform(output2)\n",
        "print(output2)"
      ],
      "execution_count": null,
      "outputs": [
        {
          "output_type": "stream",
          "name": "stdout",
          "text": [
            "['sorocaba']\n"
          ]
        }
      ]
    },
    {
      "cell_type": "code",
      "metadata": {
        "colab": {
          "base_uri": "https://localhost:8080/"
        },
        "id": "_V9_cSwq9XzI",
        "outputId": "a3a002a9-c7fa-402d-f842-3bf59c4a2381"
      },
      "source": [
        "gabarito"
      ],
      "execution_count": null,
      "outputs": [
        {
          "output_type": "execute_result",
          "data": {
            "text/plain": [
              "array(['0001', '0005', '004', '02', '06', '12', '13', '15', '17', '18',\n",
              "       '19', 'alegre', 'aparecida', 'barueri', 'bernardo', 'caetano',\n",
              "       'campinas', 'campo', 'carioca', 'cidade', 'dados', 'das', 'elo',\n",
              "       'es', 'finangas', 'fortaleza', 'go', 'goiania', 'hortolandia',\n",
              "       'imperial', 'iota', 'janeiro', 'jardim', 'jundiai', 'ltda',\n",
              "       'macae', 'na', 'nfe', 'pagina', 'paulo', 'pouso', 'recife', 'rio',\n",
              "       'rua', 'santos', 'servigos', 'sorocaba', 'sul', 'telecomunicagoes',\n",
              "       'vitoria'], dtype=object)"
            ]
          },
          "metadata": {},
          "execution_count": 254
        }
      ]
    },
    {
      "cell_type": "markdown",
      "metadata": {
        "id": "EV8gSs1FZOsS"
      },
      "source": [
        "///////////////////////////////////////////////////////////////////////////////////////////////////////////////////////////////////////////////////////////////////////////////////////////////\n",
        "\n",
        "#PARTE DE OPERACAO⛳ (substituido pela seção API)\n",
        "///////////////////////////////////////////////////////////////////////////////////////////////////////////////////////////////////////////////////////////////////////////////////////////////\n"
      ]
    },
    {
      "cell_type": "code",
      "metadata": {
        "id": "BXB7fHQat8Vd"
      },
      "source": [
        "%matplotlib inline"
      ],
      "execution_count": null,
      "outputs": []
    },
    {
      "cell_type": "code",
      "metadata": {
        "id": "9WmBFsgqt8Vk"
      },
      "source": [
        "#instalando convertedor de pdf para jpeg\n",
        "!sudo apt upgrade && update\n",
        "!sudo apt install poppler-utils\n",
        "!pip install pytesseract pdf2image fuzzywuzzy poppler-utils PyMuPDF==1.18.9\n",
        "!sudo apt install tesseract-ocr\n",
        "!pip install flask-ngrok Werkzeug"
      ],
      "execution_count": null,
      "outputs": []
    },
    {
      "cell_type": "code",
      "metadata": {
        "colab": {
          "base_uri": "https://localhost:8080/"
        },
        "id": "AXSGiQfFt8Vk",
        "outputId": "83c50956-e478-485b-861b-024f574d7f46"
      },
      "source": [
        "!which tesseract"
      ],
      "execution_count": null,
      "outputs": [
        {
          "output_type": "stream",
          "name": "stdout",
          "text": [
            "/usr/bin/tesseract\n"
          ]
        }
      ]
    },
    {
      "cell_type": "code",
      "metadata": {
        "colab": {
          "base_uri": "https://localhost:8080/"
        },
        "id": "OAazl_HSt8Vk",
        "outputId": "6df14440-afd0-4b4a-ee35-4a7d0d396005"
      },
      "source": [
        "import pytesseract\n",
        "import cv2\n",
        "import os\n",
        "import fuzzywuzzy\n",
        "import numpy as np\n",
        "\n",
        "from fuzzywuzzy import fuzz\n",
        "from fuzzywuzzy import process\n",
        "from PIL import Image\n",
        "from pdf2image import convert_from_path"
      ],
      "execution_count": null,
      "outputs": [
        {
          "output_type": "stream",
          "name": "stderr",
          "text": [
            "/usr/local/lib/python3.7/dist-packages/fuzzywuzzy/fuzz.py:11: UserWarning: Using slow pure-python SequenceMatcher. Install python-Levenshtein to remove this warning\n",
            "  warnings.warn('Using slow pure-python SequenceMatcher. Install python-Levenshtein to remove this warning')\n"
          ]
        }
      ]
    },
    {
      "cell_type": "code",
      "metadata": {
        "id": "m7sjxkvMt8Vk"
      },
      "source": [
        "#CRIAR AS PASTAS E SUBIR MANUALMENTE OS NFSe\n",
        "!mkdir /content/operacao/\n",
        "!mkdir /content/operacao/a_notas_fiscais/\n",
        "!mkdir /content/operacao/images/\n",
        "!mkdir /content/operacao/images_grays/\n",
        "!mkdir /content/operacao/text_modelo/\n",
        "\n",
        "#DEPOIS QUE CRIAR AS PASTAS SUBA AS NOTAS FISCAIS NA a_notas_fiscais/ \n",
        "# Caminho das notas \\\\brdcvmtaxanapd\\Innovation-Grupo5$\n",
        "# Tenho umas limpas, e com o nome alterado para macae@blabla.pdf para pegar manual o nome da cidade"
      ],
      "execution_count": null,
      "outputs": []
    },
    {
      "cell_type": "code",
      "metadata": {
        "colab": {
          "base_uri": "https://localhost:8080/"
        },
        "id": "KKZGJvfbynDD",
        "outputId": "c9fb07b7-7556-478a-bc1f-2a5f8210ea51"
      },
      "source": [
        "from google.colab import drive\n",
        "drive.mount('/content/drive')"
      ],
      "execution_count": null,
      "outputs": [
        {
          "output_type": "stream",
          "name": "stdout",
          "text": [
            "Mounted at /content/drive\n"
          ]
        }
      ]
    },
    {
      "cell_type": "code",
      "metadata": {
        "id": "gkioQt1qt8Vl"
      },
      "source": [
        "#TRANSFORMANDO O PDF EM IMAGEM \n",
        "import datetime\n",
        "#path_absolute = '/content/drive/MyDrive/Notas-de-operacao/'\n",
        "path_absolute = '/content/operacao/a_notas_fiscais/'\n",
        "path_absolute_images = '/content/operacao/images/'\n",
        "                                                                                        \n",
        "for imgn in os.listdir(path_absolute):\n",
        "  try:\n",
        "    image_path = convert_from_path(path_absolute+f'{imgn}', 500,output_folder=path_absolute_images,fmt='jpeg',output_file=f'{imgn}')\n",
        "    #print(image_path)\n",
        "    type(image_path)\n",
        "  except:\n",
        "    pass"
      ],
      "execution_count": null,
      "outputs": []
    },
    {
      "cell_type": "code",
      "metadata": {
        "id": "NIdceTBkt8Vl"
      },
      "source": [
        "# RECORTANDO CABECALHOS E SALVANDO EM PNG \n",
        "#from google.colab.patches import cv2_imshow\n",
        "\n",
        "path_absolute = '/content/drive/MyDrive/Notas-de-operacao/'\n",
        "path_absolute_images = '/content/operacao/images/'\n",
        "path_absolute_image_grays = '/content/operacao/images_grays/'\n",
        "main_text = ''\n",
        "\n",
        "#salva a imagem em cinza e ja realiza o corte do cabeçalho\n",
        "for imgn in os.listdir(path_absolute_images):\n",
        "    img = cv2.imread(path_absolute_images + f'{imgn}')\n",
        "    height, width, channels = img.shape\n",
        "    y1=int(height*0.13)\n",
        "    x2=int(width*0.70)\n",
        "    x1=int(width*0.20)\n",
        "    gray = cv2.cvtColor(img, cv2.COLOR_BGR2GRAY)                                              \n",
        "    crop = gray[10:y1,x1:x2]\n",
        "    file = path_absolute_image_grays + f'{imgn}.png'                                      \n",
        "    cv2.imwrite(file,crop)"
      ],
      "execution_count": null,
      "outputs": []
    },
    {
      "cell_type": "code",
      "metadata": {
        "id": "Ct3jMXPht8Vm"
      },
      "source": [
        "path_absolute = '/content/drive/MyDrive/Notas-de-operacao/'\n",
        "path_absolute_images = '/content/operacao/images/'\n",
        "path_absolute_image_grays = '/content/operacao/images_grays/'\n",
        "\n",
        "import re\n",
        "main_text = ''\n",
        "\n",
        "#preferi pegar o nome da cidade no proprio nome do arquivo por exemplo: rio_de_janeiro@blablabla.pdf\n",
        "\n",
        "for imgn in os.listdir(path_absolute_image_grays):\n",
        "    file = path_absolute_image_grays + f'{imgn}'\n",
        "    text = pytesseract.image_to_string(Image.open(file))\n",
        "    main_text = text.replace('\\n', ' ')                                                 \n",
        "    #name_city=re.split(\"[@]\",f'{imgn}' )[-2]\n",
        "    # metodo esta sobreescrevendo os textos, validar quando a primeira vez inserir o texto, mudar o \"w\" para append \"a\"\n",
        "    f=open('/content/operacao/text_modelo/agendamento_da_vez.txt', \"a\")     \n",
        "    f.write( \"%s\\n\" % (main_text))             \n",
        "    f.close()\n",
        "\n",
        "#print(main_text)\n",
        "#f=open('/content/text_modelo/main_array.txt',\"r\")\n",
        "#print(f.read(20))\n",
        "\n",
        "#cv2_imshow(crop)\n"
      ],
      "execution_count": null,
      "outputs": []
    },
    {
      "cell_type": "code",
      "metadata": {
        "id": "WlEDIpNH2Koh"
      },
      "source": [
        "# testando uma nota da operacao"
      ],
      "execution_count": null,
      "outputs": []
    },
    {
      "cell_type": "code",
      "metadata": {
        "id": "joONlA3HIiNZ"
      },
      "source": [
        "gabarito"
      ],
      "execution_count": null,
      "outputs": []
    },
    {
      "cell_type": "code",
      "metadata": {
        "id": "TexL-CKkWSIg"
      },
      "source": [
        "print(str_op)"
      ],
      "execution_count": null,
      "outputs": []
    },
    {
      "cell_type": "code",
      "metadata": {
        "id": "BsB3dy5P9tNj"
      },
      "source": [
        "#import pandas as pd\n",
        "\n",
        "#base_op = pd.read_csv('/content/operacao/text_modelo/agendamento_da_vez.txt', sep='§§§', engine='python')\n",
        "#base_op"
      ],
      "execution_count": null,
      "outputs": []
    },
    {
      "cell_type": "code",
      "metadata": {
        "id": "QFmwwtX32gOk"
      },
      "source": [
        "#consegui fazer quando a pessoa pedir previsao de só uma nota\n",
        "\n",
        "#\"\"\"PEÇO SUA AJUDA PARA UM CASO QUE A PESSOA PEÇA PARA PREVER VARIAS NOTAS DE UMA VEZ:\n",
        "#caminho='/content/operacao/text_modelo/agendamento_da_vez.txt'\n",
        "#with open('/content/operacao/text_modelo/agendamento_da_vez.txt', 'r') as file:\n",
        "#    str_op = file.read()#.replace('\\n', '')\n",
        "\n",
        "##### pelo visto só dá pra entrar no encoding como string. O numpy, pandas e lista dão erro.\n",
        "\n",
        "#with open(caminho) as f:\n",
        "#  lines = [line.rstrip() for line in f]\n",
        "#  vectorizer2 = CountVectorizer(vocabulary=gabarito)\n",
        "#  dop1 = vectorizer2.transform([line]).toarray()\n",
        "  #dop1 = vectorizer2.transform([str_op]).toarray()\n",
        "#  g=open('/content/operacao/text_modelo/agendamento_em_array.txt', \"a\")     \n",
        "#  g.write( \"%s\\n\" % (dop1))             \n",
        "#  g.close()\n",
        "  \n",
        "#g=open('/content/operacao/text_modelo/agendamento_em_array.txt',\"r\")\n",
        "#print(g.read(2000))\n",
        "#\"\"\"\n"
      ],
      "execution_count": null,
      "outputs": []
    },
    {
      "cell_type": "code",
      "metadata": {
        "colab": {
          "base_uri": "https://localhost:8080/"
        },
        "id": "H6NOZ-oZJQQI",
        "outputId": "3c67b9b5-536c-4a2d-f816-f33b9c7aba75"
      },
      "source": [
        "# load the model from disk\n",
        "#loaded_model = pickle.load(open(mmlp, 'rb'))\n",
        "#result = loaded_model.score(X_test, Y_test)\n",
        "#print(result)\n",
        "\n",
        "from sklearn.feature_extraction.text import CountVectorizer\n",
        "str_op =\"barueri\"\n",
        "\n",
        "vectorizer2 = CountVectorizer(vocabulary=gabarito)\n",
        "dop1 = vectorizer2.transform([str_op]).toarray()\n",
        "dop1\n",
        "\n",
        "with open('model_pkl', 'rb') as training_model:\n",
        "    model = pickle.load(training_model)\n",
        "\n",
        "output2 = model.predict(dop1)\n",
        "\n",
        "output2 = le.inverse_transform(output2)\n",
        "print(output2)\n",
        "\n",
        "\n",
        "#print('acuracia:', round(accuracy_score(validacao, output2, normalize=False)/len(validacao), 4), '| Iters:', mlp.n_iter_)\n",
        "\n",
        "\n",
        "# joblib.dump(last_mlp, nome_output + '.pkl', compress=7) # exporta o modelo treinado\n",
        "\n",
        "# foi ? não entendo muito bem como funciona agora, ele salvou o modelo exatamente como foi chamado em cima"
      ],
      "execution_count": null,
      "outputs": [
        {
          "output_type": "stream",
          "name": "stdout",
          "text": [
            "['macae']\n"
          ]
        }
      ]
    },
    {
      "cell_type": "markdown",
      "metadata": {
        "id": "UOpBUDYSTz-V"
      },
      "source": [
        "a matriz gabarito me parece fundamental, pois para entrar nela só pega palavras exatas cadastradas na matriz gabarito. Por exemplo, \"palo\" não tem e passaria batido pois nem entraria no modelo.\n",
        "Mais pra frente, talvez pensar uma forma de misturar o fuzzy adicionando mais colunas semelhantes nessa matriz."
      ]
    },
    {
      "cell_type": "markdown",
      "metadata": {
        "id": "DiIUv9p90-wh"
      },
      "source": [
        "///////////////////////////////////////////////////////////////////////////////////////////////////////////////////////////////////////////////////////////////////////////////////////////////\n",
        "\n",
        "#API SECAO\n",
        "///////////////////////////////////////////////////////////////////////////////////////////////////////////////////////////////////////////////////////////////////////////////////////////////\n"
      ]
    },
    {
      "cell_type": "markdown",
      "metadata": {
        "id": "IqPT-eN4Bxfb"
      },
      "source": [
        " ~ importar somente o array de textos das cidades que foi gerado(aquele com 900 notas)\n",
        " </br>\n",
        " ~ importar o arquivo gerado pelo modelo (aquele model_pkl)"
      ]
    },
    {
      "cell_type": "code",
      "metadata": {
        "id": "PDilIdJ31pAg"
      },
      "source": [
        "!sudo apt upgrade && update\n",
        "!sudo apt install poppler-utils\n",
        "!pip install pytesseract pdf2image fuzzywuzzy poppler-utils PyMuPDF==1.18.9\n",
        "!sudo apt install tesseract-ocr\n",
        "!pip install flask-ngrok Werkzeug flask_cors"
      ],
      "execution_count": null,
      "outputs": []
    },
    {
      "cell_type": "code",
      "metadata": {
        "id": "wAfOimaq1yJv"
      },
      "source": [
        "!mkdir /content/operacao/\n",
        "!mkdir /content/operacao/a_notas_fiscais/\n",
        "!mkdir /content/operacao/images/\n",
        "!mkdir /content/operacao/images_grays/\n",
        "!mkdir /content/operacao/text_modelo/"
      ],
      "execution_count": null,
      "outputs": []
    },
    {
      "cell_type": "code",
      "metadata": {
        "id": "Z3BYprkJBhKg",
        "colab": {
          "base_uri": "https://localhost:8080/"
        },
        "outputId": "353d09f8-7b50-4e3e-a9f0-68826202af1b"
      },
      "source": [
        "import os\n",
        "import cv2\n",
        "import pickle\n",
        "import fuzzywuzzy\n",
        "import numpy as np\n",
        "import pytesseract\n",
        "import pandas as pd\n",
        "from PIL import Image\n",
        "from fuzzywuzzy import fuzz\n",
        "from fuzzywuzzy import process\n",
        "from sklearn import preprocessing\n",
        "from flask_ngrok import run_with_ngrok\n",
        "from pdf2image import convert_from_path\n",
        "from flask import Flask, request, redirect, url_for\n",
        "from werkzeug.utils import secure_filename\n",
        "from sklearn.model_selection import train_test_split\n",
        "from sklearn.feature_extraction.text import CountVectorizer"
      ],
      "execution_count": null,
      "outputs": [
        {
          "output_type": "stream",
          "name": "stderr",
          "text": [
            "/usr/local/lib/python3.7/dist-packages/fuzzywuzzy/fuzz.py:11: UserWarning: Using slow pure-python SequenceMatcher. Install python-Levenshtein to remove this warning\n",
            "  warnings.warn('Using slow pure-python SequenceMatcher. Install python-Levenshtein to remove this warning')\n"
          ]
        }
      ]
    },
    {
      "cell_type": "code",
      "metadata": {
        "id": "E9yNpyxd78FE"
      },
      "source": [
        "#importar main_array\n",
        "header = ['Conteudo', 'Cidade']\n",
        "base = pd.read_csv('/content/operacao/text_modelo/ok-v2-main_array.txt', sep='§§§', engine='python', names=header)\n",
        "\n",
        "base = base.fillna(' ')"
      ],
      "execution_count": null,
      "outputs": []
    },
    {
      "cell_type": "code",
      "metadata": {
        "id": "vXQhN7l38NGu"
      },
      "source": [
        "le = preprocessing.LabelEncoder()\n",
        "\n",
        "le.fit(base.loc[:,\"Cidade\"].unique())\n",
        "df = base.to_numpy()\n",
        "\n",
        "np.random.shuffle(df)\n",
        "\n",
        "\n",
        "vectorizer = CountVectorizer(max_features=50, min_df=5, max_df=0.08)\n",
        "c1 = vectorizer.fit_transform(df[:,0]).toarray()"
      ],
      "execution_count": null,
      "outputs": []
    },
    {
      "cell_type": "code",
      "metadata": {
        "id": "O11jW8nu9uEm"
      },
      "source": [
        "gabarito = vectorizer.get_feature_names_out()"
      ],
      "execution_count": null,
      "outputs": []
    },
    {
      "cell_type": "code",
      "metadata": {
        "colab": {
          "base_uri": "https://localhost:8080/"
        },
        "id": "cRDH2b4X-Kad",
        "outputId": "c8d38258-2ed1-4259-88db-7f2bd690e67b"
      },
      "source": [
        "gabarito"
      ],
      "execution_count": null,
      "outputs": [
        {
          "output_type": "execute_result",
          "data": {
            "text/plain": [
              "array(['0001', '0005', '004', '02', '06', '12', '13', '15', '17', '18',\n",
              "       '19', 'alegre', 'aparecida', 'barueri', 'bernardo', 'caetano',\n",
              "       'campinas', 'campo', 'carioca', 'cidade', 'dados', 'das', 'elo',\n",
              "       'es', 'finangas', 'fortaleza', 'go', 'goiania', 'hortolandia',\n",
              "       'imperial', 'iota', 'janeiro', 'jardim', 'jundiai', 'ltda',\n",
              "       'macae', 'na', 'nfe', 'pagina', 'paulo', 'pouso', 'recife', 'rio',\n",
              "       'rua', 'santos', 'servigos', 'sorocaba', 'sul', 'telecomunicagoes',\n",
              "       'vitoria'], dtype=object)"
            ]
          },
          "metadata": {},
          "execution_count": 7
        }
      ]
    },
    {
      "cell_type": "markdown",
      "metadata": {
        "id": "97H5q8skBdhT"
      },
      "source": [
        "##FUNCAO PREVER NOTA"
      ]
    },
    {
      "cell_type": "code",
      "metadata": {
        "id": "WUXQSZys_76L"
      },
      "source": [
        "#funcao para prever a nota\n",
        "#importar modelo model_pkl\n",
        "def predict_nota(text):\n",
        "  vectorizer2 = CountVectorizer(vocabulary=gabarito)\n",
        "  dop1 = vectorizer2.transform([text]).toarray()\n",
        "  with open('model_pkl', 'rb') as training_model:\n",
        "    model = pickle.load(training_model)\n",
        "\n",
        "  output2 = model.predict(dop1)\n",
        "  #le = preprocessing.LabelEncoder()\n",
        "  #output2 = le.inverse_transform(output2)\n",
        "  return output2"
      ],
      "execution_count": null,
      "outputs": []
    },
    {
      "cell_type": "code",
      "metadata": {
        "id": "17UvtJbeAuf4"
      },
      "source": [
        "textoNota = \"\"\"PREFEITURA DA CIDADE DO SANTOS SECRETARIA MUNICIPAL DE FAZENDA NOTA FISCAL DE SERVICOS ELETRONICA - NFS-e \f\f\"\"\"\n"
      ],
      "execution_count": null,
      "outputs": []
    },
    {
      "cell_type": "code",
      "metadata": {
        "colab": {
          "base_uri": "https://localhost:8080/"
        },
        "id": "dfX5TS_sAD3F",
        "outputId": "14bfa7b0-4b7f-4dda-ae37-75adfe8206ba"
      },
      "source": [
        "predict_nota(textoNota)"
      ],
      "execution_count": null,
      "outputs": [
        {
          "output_type": "execute_result",
          "data": {
            "text/plain": [
              "array([10])"
            ]
          },
          "metadata": {},
          "execution_count": 10
        }
      ]
    },
    {
      "cell_type": "markdown",
      "metadata": {
        "id": "5naAyA23BjO_"
      },
      "source": [
        "##FUNCAO TRANSFORMAR NOTA"
      ]
    },
    {
      "cell_type": "code",
      "metadata": {
        "id": "YD3zzdeVBA-N"
      },
      "source": [
        "#funcao para transformar a nota em texto\n",
        "def transform_nota_text(path, filename):\n",
        "  main_text = ''\n",
        "  image_path = convert_from_path(path+f'a_notas_fiscais/{filename}', 500,output_folder=path+'images/',fmt='jpeg',output_file=filename)\n",
        "  img = cv2.imread(path + f'images/{filename}0001-1.jpg')\n",
        "  height, width, channels = img.shape\n",
        "  y1=int(height*0.13)\n",
        "  x2=int(width*0.70)\n",
        "  x1=int(width*0.20)\n",
        "  gray = cv2.cvtColor(img, cv2.COLOR_BGR2GRAY)                                              \n",
        "  crop = gray[10:y1,x1:x2]\n",
        "  file = path + f'images_grays/{filename}.png'\n",
        "  cv2.imwrite(file,crop)\n",
        "  text = pytesseract.image_to_string(Image.open(file))\n",
        "  main_text = text.replace('\\n', ' ')\n",
        "  os.remove(path+f'a_notas_fiscais/{filename}')\n",
        "  os.remove(path+f'images/{filename}0001-1.jpg')\n",
        "  os.remove(path+f'images_grays/{filename}.png')\n",
        "  return main_text"
      ],
      "execution_count": null,
      "outputs": []
    },
    {
      "cell_type": "code",
      "metadata": {
        "id": "O8O5kJIjgj0s",
        "colab": {
          "base_uri": "https://localhost:8080/",
          "height": 54
        },
        "outputId": "50706de3-4340-4ba3-f5e0-fcc9a4e3f4b9"
      },
      "source": [
        "pathTest = '/content/operacao/'\n",
        "nameFile = 'macae0b048b4f-5a5c-4b29-9e45-01a62f6d1b5f_NF_524_CRC.pdf'\n",
        "transform_nota_text(path=pathTest, filename=nameFile)"
      ],
      "execution_count": null,
      "outputs": [
        {
          "output_type": "execute_result",
          "data": {
            "application/vnd.google.colaboratory.intrinsic+json": {
              "type": "string"
            },
            "text/plain": [
              "'PREFEITURA DA CIDADE DO RIO DE JANEIRO  SECRETARIA MUNICIPAL DE FAZENDA NOTA FISCAL DE SERVICOS ELETRONICA - NFS-e \\x0c'"
            ]
          },
          "metadata": {},
          "execution_count": 15
        }
      ]
    },
    {
      "cell_type": "markdown",
      "metadata": {
        "id": "lEF_HVe8BnE-"
      },
      "source": [
        "##API"
      ]
    },
    {
      "cell_type": "code",
      "metadata": {
        "id": "vM4tD22TWqMH",
        "colab": {
          "base_uri": "https://localhost:8080/"
        },
        "outputId": "ca58477c-f3a4-44eb-b299-b9e0c6b0f0b1"
      },
      "source": [
        "#SIMPLE API to test de model\n",
        "import os\n",
        "import pickle\n",
        "import secrets\n",
        "from sklearn import preprocessing\n",
        "from sklearn.feature_extraction.text import CountVectorizer\n",
        "from flask import Flask, request, redirect, url_for, jsonify, make_response, flash\n",
        "from flask_cors import CORS, cross_origin\n",
        "from flask_ngrok import run_with_ngrok\n",
        "from werkzeug.utils import secure_filename\n",
        "\n",
        "le = preprocessing.LabelEncoder()\n",
        "secret_key = secrets.token_hex(16)\n",
        "#cors = CORS(app)\n",
        "\n",
        "UPLOAD_FOLDER = '/content/operacao/'\n",
        "ALLOWED_EXTENSIONS = {'txt', 'pdf', 'png', 'jpg', 'jpeg', 'gif'}\n",
        "\n",
        "app = Flask(__name__)\n",
        "app.config['SECRET_KEY'] = secret_key\n",
        "app.config['UPLOAD_FOLDER'] = UPLOAD_FOLDER\n",
        "CORS(app)\n",
        "\n",
        "run_with_ngrok(app)   \n",
        "\n",
        "def allowed_file(filename):\n",
        "    return '.' in filename and \\\n",
        "           filename.rsplit('.', 1)[1].lower() in ALLOWED_EXTENSIONS\n",
        "\n",
        "#teste somente para fazer o upload de uma nota\n",
        "@app.route('/', methods=['POST'])\n",
        "#@cross_origin()\n",
        "def upload_file():\n",
        "    if request.method == 'POST':\n",
        "        # check if the post request has the file part\n",
        "        #if 'file' not in request.files:\n",
        "        #    flash('No file part')\n",
        "        #    return redirect(request.url)\n",
        "        f = request.files['file']\n",
        "        # If the user does not select a file, the browser submits an\n",
        "        # empty file without a filename.\n",
        "        #if file.filename == '':\n",
        "         #   flash('No selected file')\n",
        "          #  return redirect(request.url)\n",
        "        if f and allowed_file(f.filename):\n",
        "            filename = secure_filename(f.filename)\n",
        "            f.save(os.path.join(app.config['UPLOAD_FOLDER']+'a_notas_fiscais/', filename))\n",
        "            textfile = transform_nota_text(app.config['UPLOAD_FOLDER'], filename)\n",
        "            predict = predict_nota(textfile)\n",
        "            #redirect(url_for('upload_file', name=filename))\n",
        "            #return make_response(jsonify({\"predict\": predict}), 200)\n",
        "            print(predict)\n",
        "            print(jsonify({\"predict\": int(predict)}))\n",
        "            #response = jsonify({\"predict\": int(predict)})\n",
        "            #response.response.headers.add('Access-Control-Allow-Origin', '*')\n",
        "            return jsonify({\"predict\": int(predict)})\n",
        "    \n",
        "app.run()\n",
        "\n",
        "##problemas de como chamar ele e receber\n",
        "# envio a nota - OKAY\n",
        "# faz o tratamento da nota ? OKAY\n",
        "# como retornar ela ? OKAY - retornando json no insomnia ou postman\n",
        "# erro somente retorna 302 ???????\n",
        "#ERROS DO FRONTEND Error: Network Error\n",
        "# xhr.js:210 GET http://6815-35-233-128-182.ngrok.io/ net::ERR_TOO_MANY_REDIRECTS 302\n",
        "#a foto abaixo mostra que se somente chamar a api ele funciona prevendo a nota\n",
        "\n"
      ],
      "execution_count": null,
      "outputs": [
        {
          "output_type": "stream",
          "name": "stdout",
          "text": [
            " * Serving Flask app \"__main__\" (lazy loading)\n",
            " * Environment: production\n",
            "\u001b[31m   WARNING: This is a development server. Do not use it in a production deployment.\u001b[0m\n",
            "\u001b[2m   Use a production WSGI server instead.\u001b[0m\n",
            " * Debug mode: off\n"
          ]
        },
        {
          "output_type": "stream",
          "name": "stderr",
          "text": [
            " * Running on http://127.0.0.1:5000/ (Press CTRL+C to quit)\n"
          ]
        },
        {
          "output_type": "stream",
          "name": "stdout",
          "text": [
            " * Running on http://1e93-34-83-169-160.ngrok.io\n",
            " * Traffic stats available on http://127.0.0.1:4040\n"
          ]
        },
        {
          "output_type": "stream",
          "name": "stderr",
          "text": [
            "127.0.0.1 - - [13/Dec/2021 15:53:05] \"\u001b[37mPOST / HTTP/1.1\u001b[0m\" 200 -\n"
          ]
        },
        {
          "output_type": "stream",
          "name": "stdout",
          "text": [
            "[9]\n",
            "<Response 14 bytes [200 OK]>\n"
          ]
        },
        {
          "output_type": "stream",
          "name": "stderr",
          "text": [
            "127.0.0.1 - - [13/Dec/2021 15:53:41] \"\u001b[37mPOST / HTTP/1.1\u001b[0m\" 200 -\n"
          ]
        },
        {
          "output_type": "stream",
          "name": "stdout",
          "text": [
            "[15]\n",
            "<Response 15 bytes [200 OK]>\n"
          ]
        },
        {
          "output_type": "stream",
          "name": "stderr",
          "text": [
            "127.0.0.1 - - [13/Dec/2021 16:03:00] \"\u001b[37mPOST / HTTP/1.1\u001b[0m\" 200 -\n"
          ]
        },
        {
          "output_type": "stream",
          "name": "stdout",
          "text": [
            "[6]\n",
            "<Response 14 bytes [200 OK]>\n"
          ]
        },
        {
          "output_type": "stream",
          "name": "stderr",
          "text": [
            "127.0.0.1 - - [13/Dec/2021 16:23:10] \"\u001b[37mPOST / HTTP/1.1\u001b[0m\" 200 -\n"
          ]
        },
        {
          "output_type": "stream",
          "name": "stdout",
          "text": [
            "[15]\n",
            "<Response 15 bytes [200 OK]>\n"
          ]
        },
        {
          "output_type": "stream",
          "name": "stderr",
          "text": [
            "127.0.0.1 - - [13/Dec/2021 16:40:27] \"\u001b[37mPOST / HTTP/1.1\u001b[0m\" 200 -\n"
          ]
        },
        {
          "output_type": "stream",
          "name": "stdout",
          "text": [
            "[5]\n",
            "<Response 14 bytes [200 OK]>\n"
          ]
        },
        {
          "output_type": "stream",
          "name": "stderr",
          "text": [
            "127.0.0.1 - - [13/Dec/2021 16:54:27] \"\u001b[37mPOST / HTTP/1.1\u001b[0m\" 200 -\n"
          ]
        },
        {
          "output_type": "stream",
          "name": "stdout",
          "text": [
            "[10]\n",
            "<Response 15 bytes [200 OK]>\n"
          ]
        },
        {
          "output_type": "stream",
          "name": "stderr",
          "text": [
            "127.0.0.1 - - [13/Dec/2021 17:01:25] \"\u001b[37mPOST / HTTP/1.1\u001b[0m\" 200 -\n"
          ]
        },
        {
          "output_type": "stream",
          "name": "stdout",
          "text": [
            "[15]\n",
            "<Response 15 bytes [200 OK]>\n"
          ]
        },
        {
          "output_type": "stream",
          "name": "stderr",
          "text": [
            "127.0.0.1 - - [13/Dec/2021 17:02:48] \"\u001b[37mPOST / HTTP/1.1\u001b[0m\" 200 -\n"
          ]
        },
        {
          "output_type": "stream",
          "name": "stdout",
          "text": [
            "[15]\n",
            "<Response 15 bytes [200 OK]>\n"
          ]
        },
        {
          "output_type": "stream",
          "name": "stderr",
          "text": [
            "127.0.0.1 - - [13/Dec/2021 17:03:06] \"\u001b[37mPOST / HTTP/1.1\u001b[0m\" 200 -\n"
          ]
        },
        {
          "output_type": "stream",
          "name": "stdout",
          "text": [
            "[2]\n",
            "<Response 14 bytes [200 OK]>\n"
          ]
        }
      ]
    },
    {
      "cell_type": "markdown",
      "metadata": {
        "id": "-oMarCMQBQFq"
      },
      "source": [
        "![image.png](data:image/png;base64,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)"
      ]
    },
    {
      "cell_type": "markdown",
      "metadata": {
        "id": "2uOoHPiYIGS2"
      },
      "source": [
        "////////////////////////////////////////////////////////////////////////////////////////////////////////////////////////////////////// \n",
        "\n",
        "#FIM📷 (abaixo disso é rascunho desprezível)\n",
        "\n",
        "\n",
        "/////////////////////////////////////////////////////////////////////////////////////////////////////////////////////////////////////"
      ]
    },
    {
      "cell_type": "code",
      "metadata": {
        "id": "KmcI98dqbRLq",
        "colab": {
          "base_uri": "https://localhost:8080/",
          "height": 217
        },
        "outputId": "77721a2a-6e69-46f0-9b1d-5667c89a0ac4"
      },
      "source": [
        "from sklearn.feature_extraction.text import CountVectorizer\n",
        "vectorizer = CountVectorizer(max_features=1500, min_df=5, max_df=0.7)\n",
        "treino = vectorizer.fit_transform(treino).toarray()\n",
        "teste = vectorizer.fit_transform(teste).toarray()"
      ],
      "execution_count": null,
      "outputs": [
        {
          "output_type": "error",
          "ename": "NameError",
          "evalue": "ignored",
          "traceback": [
            "\u001b[0;31m---------------------------------------------------------------------------\u001b[0m",
            "\u001b[0;31mNameError\u001b[0m                                 Traceback (most recent call last)",
            "\u001b[0;32m<ipython-input-1-a0f4c8f69bda>\u001b[0m in \u001b[0;36m<module>\u001b[0;34m()\u001b[0m\n\u001b[1;32m      1\u001b[0m \u001b[0;32mfrom\u001b[0m \u001b[0msklearn\u001b[0m\u001b[0;34m.\u001b[0m\u001b[0mfeature_extraction\u001b[0m\u001b[0;34m.\u001b[0m\u001b[0mtext\u001b[0m \u001b[0;32mimport\u001b[0m \u001b[0mCountVectorizer\u001b[0m\u001b[0;34m\u001b[0m\u001b[0;34m\u001b[0m\u001b[0m\n\u001b[1;32m      2\u001b[0m \u001b[0mvectorizer\u001b[0m \u001b[0;34m=\u001b[0m \u001b[0mCountVectorizer\u001b[0m\u001b[0;34m(\u001b[0m\u001b[0mmax_features\u001b[0m\u001b[0;34m=\u001b[0m\u001b[0;36m1500\u001b[0m\u001b[0;34m,\u001b[0m \u001b[0mmin_df\u001b[0m\u001b[0;34m=\u001b[0m\u001b[0;36m5\u001b[0m\u001b[0;34m,\u001b[0m \u001b[0mmax_df\u001b[0m\u001b[0;34m=\u001b[0m\u001b[0;36m0.7\u001b[0m\u001b[0;34m)\u001b[0m\u001b[0;34m\u001b[0m\u001b[0;34m\u001b[0m\u001b[0m\n\u001b[0;32m----> 3\u001b[0;31m \u001b[0mtreino\u001b[0m \u001b[0;34m=\u001b[0m \u001b[0mvectorizer\u001b[0m\u001b[0;34m.\u001b[0m\u001b[0mfit_transform\u001b[0m\u001b[0;34m(\u001b[0m\u001b[0mtreino\u001b[0m\u001b[0;34m)\u001b[0m\u001b[0;34m.\u001b[0m\u001b[0mtoarray\u001b[0m\u001b[0;34m(\u001b[0m\u001b[0;34m)\u001b[0m\u001b[0;34m\u001b[0m\u001b[0;34m\u001b[0m\u001b[0m\n\u001b[0m\u001b[1;32m      4\u001b[0m \u001b[0mteste\u001b[0m \u001b[0;34m=\u001b[0m \u001b[0mvectorizer\u001b[0m\u001b[0;34m.\u001b[0m\u001b[0mfit_transform\u001b[0m\u001b[0;34m(\u001b[0m\u001b[0mteste\u001b[0m\u001b[0;34m)\u001b[0m\u001b[0;34m.\u001b[0m\u001b[0mtoarray\u001b[0m\u001b[0;34m(\u001b[0m\u001b[0;34m)\u001b[0m\u001b[0;34m\u001b[0m\u001b[0;34m\u001b[0m\u001b[0m\n",
            "\u001b[0;31mNameError\u001b[0m: name 'treino' is not defined"
          ]
        }
      ]
    },
    {
      "cell_type": "code",
      "metadata": {
        "id": "GcyEACWe2veG"
      },
      "source": [
        "#Shuffle the array\n",
        "#np.random.shuffle(df)"
      ],
      "execution_count": null,
      "outputs": []
    },
    {
      "cell_type": "code",
      "metadata": {
        "id": "Akf8BjrXobf9"
      },
      "source": [
        "#treino2 = (','.join(str(v) for v in treino))"
      ],
      "execution_count": null,
      "outputs": []
    },
    {
      "cell_type": "code",
      "metadata": {
        "id": "Rs9wOTtRo8Bs"
      },
      "source": [
        "# consolidar todas as colunas em uma só para as variaveis TREINO e TESTE\n",
        "teste= []\n",
        "\n",
        "treinopd =pd.DataFrame(treino)\n",
        "\n",
        "for row in treinopd.iterrows():\n",
        "  x = ','.join([str(y) for y in row])\n",
        "  teste.append(x)\n",
        "\n",
        "teste2=teste.to_numpy()\n",
        "# transformar em np.array"
      ],
      "execution_count": null,
      "outputs": []
    },
    {
      "cell_type": "code",
      "metadata": {
        "id": "z6T8rPa4f-sj"
      },
      "source": [
        "def juntar(y):\n",
        "  x = int(''.join([str(y) for y in row]))\n",
        "  return x\n",
        "\n",
        "np.apply_along_axis(juntar, 0, treino)"
      ],
      "execution_count": null,
      "outputs": []
    },
    {
      "cell_type": "code",
      "metadata": {
        "id": "KwTiXd9bFxj6"
      },
      "source": [
        "#ideia alternativa, talvez melhor\n",
        "def my_func(a):\n",
        "  mybytes = a.encode('utf-8')\n",
        "  myint = int.from_bytes(mybytes, 'little')\n",
        "  return myint\n",
        "\n",
        "\n",
        "np.apply_along_axis(my_func, 0, treino)\n",
        "\n",
        "treino\n"
      ],
      "execution_count": null,
      "outputs": []
    },
    {
      "cell_type": "code",
      "metadata": {
        "id": "P7wZOWzs-9dO"
      },
      "source": [
        "mystring = \"MUNICIPIO DE MACAE SECRETARIA MUNICIPAL DE FAZENDA  NOTA FISCAL DE SERVICOS ELETRONICA - NFS-e\"\n",
        "mybytes = mystring.encode('utf-8')\n",
        "myint = int.from_bytes(mybytes, 'little')\n",
        "print(myint)\n",
        "recoveredbytes = myint.to_bytes((myint.bit_length() + 7) // 8, 'little')\n",
        "recoveredstring = recoveredbytes.decode('utf-8')\n",
        "print(recoveredstring)"
      ],
      "execution_count": null,
      "outputs": []
    },
    {
      "cell_type": "markdown",
      "metadata": {
        "id": "mbdjj28Fpxbd"
      },
      "source": [
        "\n",
        "----------------------------------------------------------\n",
        "Em construção\n"
      ]
    },
    {
      "cell_type": "code",
      "metadata": {
        "id": "PI7A6I9dCotY"
      },
      "source": [
        "from sklearn.neural_network import MLPClassifier\n",
        "from sklearn.datasets import make_classification\n",
        "from sklearn.model_selection import train_test_split\n",
        "X, y = make_classification(n_samples=100, random_state=1)\n",
        "X_train, X_test, y_train, y_test = train_test_split(X, y, stratify=y, random_state=1)\n",
        "clf = MLPClassifier(random_state=1, max_iter=300).fit(X_train, y_train)\n",
        "clf.predict_proba(X_test[:1])\n",
        "#array([[0.038..., 0.961...]])\n",
        "clf.predict(X_test[:5, :])\n",
        "#array([1, 0, 1, 0, 1])\n",
        "clf.score(X_test, y_test)\n",
        "#0.8..."
      ],
      "execution_count": null,
      "outputs": []
    },
    {
      "cell_type": "code",
      "metadata": {
        "id": "-1BKd-XRbQQA"
      },
      "source": [
        ""
      ],
      "execution_count": null,
      "outputs": []
    },
    {
      "cell_type": "markdown",
      "metadata": {
        "id": "IpumfFy5czVK"
      },
      "source": [
        "----------------------------------------------------------------------------------------------------------------------------------------------------------------\n",
        "RASCUNHO ANTIGO:"
      ]
    },
    {
      "cell_type": "code",
      "metadata": {
        "id": "54_aF4dHpiPn"
      },
      "source": [
        "#X, y = df[:,0].fillna(' '), df.sentiment\n",
        "#v = TfidfVectorizer(decode_error='replace', encoding='utf-8')"
      ],
      "execution_count": null,
      "outputs": []
    },
    {
      "cell_type": "code",
      "metadata": {
        "id": "OVO30sFtNYV7"
      },
      "source": [
        "import numpy as np\n",
        "gambi= [\"a\",\"b\"]\n",
        "\n",
        "np.char.encode(gambi, encoding='utf-8')"
      ],
      "execution_count": null,
      "outputs": []
    },
    {
      "cell_type": "code",
      "metadata": {
        "id": "P9D_jlTZP8Ln"
      },
      "source": [
        "import pickle\n",
        "\n",
        "'''serialized = pickle.dumps(treino, protocol=0) # protocol 0 is printable ASCII\n",
        "deserialized_a = pickle.loads(serialized)\n",
        "print(serialized)\n",
        "\n",
        "memfile = io.BytesIO()\n",
        "numpy.save(memfile, treino)\n",
        "memfile.seek(0)\n",
        "serialized = json.dumps(memfile.read().decode('latin-1'))\n",
        "# latin-1 maps byte n to unicode code point n"
      ],
      "execution_count": null,
      "outputs": []
    },
    {
      "cell_type": "code",
      "metadata": {
        "id": "u3t0zmotbweN"
      },
      "source": [
        "''' proximos passos: \n",
        "(50%)verificar limite de notas colab, a priori nao consegui botar todas 1400\n",
        "(50%)criar e salvar o array grandalhão com todas cidades - feito\n",
        "embaralhar o array com funcao shuffle - feito\n",
        "tirar 75% das linhas do array para treino & esperado e 25% para teste & validação - feito\n",
        "separar as duas colunas (pares conforme imagem abaixo) : treino x esperado , teste x validação  \n",
        "machine learning - utilizando MLPClassifier / a documentacao dele esta no site deles."
      ],
      "execution_count": null,
      "outputs": []
    },
    {
      "cell_type": "markdown",
      "metadata": {
        "id": "dhijasIAod_0"
      },
      "source": [
        "![image.png](data:image/png;base64,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)"
      ]
    },
    {
      "cell_type": "code",
      "metadata": {
        "id": "0Ltt1c3ZTbTP"
      },
      "source": [
        "\"\"\"\n",
        "numero_linhas = len(df)\n",
        "treino = numero_linhas * 0.75\n",
        "teste = numero_linhas * 0.25\n",
        "limit = numero_linhas * 0.75\n",
        "\n",
        "array_treino = linhas[:limit]\n",
        "array_test = linhas[limit:]\n",
        "\n",
        "import numpy as np\n",
        "base2.apply(np.random.shuffle, axis=0)\n",
        "\n",
        "separar os pares: esperado e validacao"
      ],
      "execution_count": null,
      "outputs": []
    },
    {
      "cell_type": "markdown",
      "metadata": {
        "id": "-1Pzi1DlpqLJ"
      },
      "source": [
        "----------------------------------------------------------------"
      ]
    },
    {
      "cell_type": "code",
      "metadata": {
        "id": "-j5hxZEvWxap"
      },
      "source": [
        "\"\"\"\"import shutil\n",
        "try:\n",
        "    shutil.rmtree(\"/content/images_grays\")\n",
        "except OSError as e:\n",
        "    print(\"Error: %s - %s.\" % (e.filename, e.strerror))"
      ],
      "execution_count": null,
      "outputs": []
    },
    {
      "cell_type": "code",
      "metadata": {
        "id": "8zmMFTbR0g2I"
      },
      "source": [
        "\"\"\"import os\n",
        "\n",
        "path, dirs, files = next(os.walk(\"/content/a_notas_fiscais\"))\n",
        "file_count = len(files)\n",
        "print(file_count)"
      ],
      "execution_count": null,
      "outputs": []
    },
    {
      "cell_type": "code",
      "metadata": {
        "id": "RB2dgghbgjUo"
      },
      "source": [
        "\"\"\"!zip -r /content/images.zip /content/images\n",
        "from google.colab import files\n",
        "files.download(\"/content/images.zip\")"
      ],
      "execution_count": null,
      "outputs": []
    },
    {
      "cell_type": "code",
      "metadata": {
        "id": "Ul7mVUYM4xJQ"
      },
      "source": [
        "import re\n",
        "name_city=re.split(\"[@]\",f'rio_de_janeiro@arquivo.txt' )[-2]\n",
        "print (name_city)"
      ],
      "execution_count": null,
      "outputs": []
    },
    {
      "cell_type": "code",
      "metadata": {
        "id": "IgwLTQq2s0DR"
      },
      "source": [
        "#Depois salvar o txt convertido num arquivo txt\n",
        "path_absolute = '/content/a_notas_fiscais/'\n",
        "path_absolute_images = '/content/images/'\n",
        "path_absolute_image_grays = '/content/images_grays/'\n",
        "\n",
        "#def splitTextToQuadruple(string):\n",
        "#    words = string.split()\n",
        "#    grouped_words = [' '.join(words[i: i + 4]) for i in range(0, len(words), 4)]\n",
        "#    return grouped_words\n",
        "\n",
        "main_text = ''\n",
        "\n",
        "#fiz só 1 exemplo: rio de janeiro test.Por gentileza, amarrar um for aqui\n",
        "name_city=\"macae\" # variar cidade pra cidade, pegar no nome da pasta criada manual no colab\n",
        "name_txt=\"test_\"+name_city # variar comeco do txt em train_, valid_, test_ \n",
        "\n",
        "for imgn in os.listdir(path_absolute_image_grays):\n",
        "    file = path_absolute_image_grays + f'{imgn}'\n",
        "    text = pytesseract.image_to_string(Image.open(file))\n",
        "    text += text.replace('\\n', '',) + '\\n'\n",
        "    # metodo esta sobreescrevendo os textos, validar quando a primeira vez inserir o texto, mudar o \"w\" para append \"a\"\n",
        "    f=open('/content/text_modelo/'+f'{name_txt}.txt', \"a\")      #generalizar tbm\n",
        "    f.write( \"(%s,%s)\\n\" % (text, name_city))              #acho que a tupla não é bem assim ( | ), mas separar por virgula dá certo?  \n",
        "    f.close()\n",
        "\n",
        "#print(main_text)\n",
        "#f=open(\"/content/tuplas/test/test_rio_de_janeiro.txt\",\"r\")\n",
        "#print(f.read())\n",
        "\n",
        "#cv2_imshow(crop)"
      ],
      "execution_count": null,
      "outputs": []
    },
    {
      "cell_type": "code",
      "metadata": {
        "id": "AyqOuMoN_HxY"
      },
      "source": [
        "# RECORTANDO CABECALHOS, SALVANDO PNG\n",
        "from google.colab.patches import cv2_imshow\n",
        "\n",
        "\n",
        "#Depois salvar o txt convertido num arquivo txt\n",
        "path_absolute = '/content/a_notas_fiscais/'\n",
        "path_absolute_images = '/content/images/'\n",
        "path_absolute_image_grays = '/content/images_grays/'\n",
        "\n",
        "#salva a imagem em cinza e ja realiza o corte do cabeçalho\n",
        "for imgn in os.listdir(path_absolute_images):\n",
        "    img = cv2.imread(path_absolute_images + f'{imgn}')\n",
        "    height, width, channels = img.shape\n",
        "    y1=int(height*0.13)\n",
        "    x2=int(width*0.70)\n",
        "    x1=int(width*0.20)\n",
        "    gray = cv2.cvtColor(img, cv2.COLOR_BGR2GRAY)                                              \n",
        "    crop = gray[10:y1,x1:x2]\n",
        "    file = path_absolute_image_grays + f'{imgn}.png'                                      \n",
        "    cv2.imwrite(file,crop)"
      ],
      "execution_count": null,
      "outputs": []
    },
    {
      "cell_type": "code",
      "metadata": {
        "id": "FIfTXUHAVc6u"
      },
      "source": [
        "#PEGANDO AS IMAGENS E TRANSFORMANDO EM TXT\n",
        "\n",
        "#Depois salvar o txt convertido num arquivo txt\n",
        "path_absolute = '/content/a_notas_fiscais/'\n",
        "path_absolute_images = '/content/images/'\n",
        "path_absolute_image_grays = '/content/images_grays/'\n",
        "main_text = ''\n",
        "\n",
        "for imgn in os.listdir(path_absolute_images):\n",
        "    img = cv2.imread(path_absolute_images + f'{imgn}')\n",
        "    gray = cv2.cvtColor(img, cv2.COLOR_BGR2GRAY)                                              \n",
        "    file = path_absolute_image_grays + f'{imgn}.png'                                      \n",
        "    cv2.imwrite(file,gray)\n",
        "    text=pytesseract.image_to_string(Image.open(file))\n",
        "    main_text += text.replace('\\n', '',) + '\\n'                                                 \n",
        "    \n",
        "print(main_text)\n"
      ],
      "execution_count": null,
      "outputs": []
    },
    {
      "cell_type": "code",
      "metadata": {
        "id": "DPZgcqBswhVj"
      },
      "source": [
        "#TRANSFORMANDO O PDF EM IMAGEM -> pdf2Image \n",
        "import datetime\n",
        "path_absolute = '/content/a_notas_fiscais/'\n",
        "path_absolute_images = '/content/images/'\n",
        "\n",
        "from pdf2image import convert_from_path\n",
        "#from pdf2image.exceptions import PDFPageCountError\n",
        "   \n",
        "\n",
        "for imgn in os.listdir(path_absolute):\n",
        "  #current_date=datetime.datetime.today().strftime ('%X-%d-%b-%Y')\n",
        "  #os.rename(path_absolute+f'{imgn}',path_absolute+f'{current_date}_{imgn}')\n",
        "  try:\n",
        "    image_path = convert_from_path(path_absolute+f'{imgn}', 500,output_folder=path_absolute_images,fmt='jpeg',output_file=f'{imgn}')\n",
        "  except PDFPageCountError:\n",
        "    pass\n",
        "#Pontos a se levantar:\n",
        "#> como salvar com o mesmo nome de arquivo\n",
        "#> como saber que a imagem gerada é referente ao pdf convertido"
      ],
      "execution_count": null,
      "outputs": []
    },
    {
      "cell_type": "code",
      "metadata": {
        "id": "NAvSgk_PGa4Y"
      },
      "source": [
        "#print(os.listdir('C:\\\\Users\\\\aespinoza\\\\Documents\\\\INNOVATION\\\\NOTAS_TESTE\\\\'))\n",
        "\n",
        "main_text = ''\n",
        "for imgn in os.listdir('/a_notas_fiscais/bruto_teste/temp/'):\n",
        "    img = cv2.imread(f'/a_notas_fiscais/bruto_teste/temp/image1.jpg')\n",
        "    #gray = cv2.cvtColor(img, cv2.COLOR_BGR2GRAY)    \n",
        "    file = f'/a_notas_fiscais/bruto_teste/teste{imgn}.png'\n",
        "    cv2.imwrite(file,img)\n",
        "    text=pytesseract.image_to_string(Image.open(file))\n",
        "    main_text += text.replace('\\n', '') + '\\n'\n",
        "\n",
        "print(main_text)"
      ],
      "execution_count": null,
      "outputs": []
    },
    {
      "cell_type": "code",
      "metadata": {
        "id": "EqqdW-nK7nmb"
      },
      "source": [
        "from PIL import Image\n",
        "from pdf2image import convert_from_path\n",
        "import cv2\n",
        "\n",
        "path ='/a_notas_fiscais/bruto_teste/temp'\n",
        "header_offset = 200\n",
        "footer_offset = 100\n",
        "\n",
        "page.crop((0, header_offset, page.width, footer_offset))\n",
        "#convert_from_path('/a_notas_fiscais/bruto_teste/macae/file1.pdf',fmt='jpeg')\n",
        "\n",
        "\n",
        "#images = images.save(path)\n",
        "#display(images[0])"
      ],
      "execution_count": null,
      "outputs": []
    },
    {
      "cell_type": "code",
      "metadata": {
        "id": "xFe1uW2-uaA7"
      },
      "source": [
        "from PIL import Image\n",
        "from pdf2image import convert_from_path\n",
        "import cv2\n",
        "\n",
        "path ='/a_notas_fiscais/bruto_teste/temp'\n",
        "header_offset = 2\n",
        "footer_offset = 1\n",
        "\n",
        "images = [\n",
        "    page.crop((0, header_offset, page.width, footer_offset))\n",
        "    for page in convert_from_path('/a_notas_fiscais/bruto_teste/macae/file1.pdf',fmt='jpeg')\n",
        "]\n",
        "print(page.width, page.height)\n",
        "#images = images.save(path)\n",
        "#display(images[0])\n"
      ],
      "execution_count": null,
      "outputs": []
    },
    {
      "cell_type": "code",
      "metadata": {
        "id": "HIkw7AbilUfb"
      },
      "source": [
        "from pdf2image import convert_from_path\n",
        "path='/a_notas_fiscais/bruto_teste/temp'\n",
        "pages = convert_from_path('/a_notas_fiscais/bruto_teste/macae/file1.pdf', 500, output_folder=path,fmt='jpeg')\n",
        "#display(pages[0])"
      ],
      "execution_count": null,
      "outputs": []
    },
    {
      "cell_type": "code",
      "metadata": {
        "id": "H-B8UFbE8Ucq"
      },
      "source": [
        "from PIL import Image\n",
        "img = Image.open('/a_notas_fiscais/bruto_teste/temp/image1.jpg')\n",
        "area = (0,100,100,100)\n",
        "cropped_img = img.crop(area)\n",
        "cropped_img.save('/a_notas_fiscais/bruto_teste/cropped/crop4.jpg')\n",
        "\n"
      ],
      "execution_count": null,
      "outputs": []
    },
    {
      "cell_type": "markdown",
      "metadata": {
        "id": "-Lqz_2qkp8mi"
      },
      "source": [
        "Daqui pra baixo são trechos de códigos vistos no GitHub de trechos que ainda vamos ter que usar. A maioria ainda não foi usada. Servem de inspiração quando chegar na hora certa."
      ]
    },
    {
      "cell_type": "code",
      "metadata": {
        "id": "IZT9VGPsjZSb"
      },
      "source": [
        "#instalando tesseract\n",
        "!sudo apt install tesseract-ocr\n",
        "!pip install pytesseract pdf2image thefuzz poppler-utils PyMuPDF==1.18.9"
      ],
      "execution_count": null,
      "outputs": []
    },
    {
      "cell_type": "code",
      "metadata": {
        "id": "kmuOKwOllnwo"
      },
      "source": [
        "# importando opencv , tesseract , thefuzz\n",
        "import pytesseract\n",
        "from PIL import Image\n",
        "import cv2\n",
        "import re\n",
        "from thefuzz import fuzz\n",
        "from thefuzz import process\n",
        "import fitz\n",
        "\n",
        "import os"
      ],
      "execution_count": null,
      "outputs": []
    },
    {
      "cell_type": "code",
      "metadata": {
        "id": "Jtf2gD-Vg_Ug"
      },
      "source": [
        "#tentativa 2\n",
        "!pip install pdf2image\n",
        "import tempfile\n",
        "\n",
        "with tempfile.TemporaryDirectory('/a_notas_fiscais/bruto_teste/temp') as path:\n",
        "    images_from_path = convert_from_path('/a_notas_fiscais/bruto_teste/macae/0ae323a6-9fb8-4899-90b0-123887037a21_NFSe_00003548_00027714.pdf', output_folder=path)\n",
        "\n",
        "\n"
      ],
      "execution_count": null,
      "outputs": []
    },
    {
      "cell_type": "code",
      "metadata": {
        "id": "QCFF_c2BkMA6"
      },
      "source": [
        "#tentativa 3\n",
        "!pip install pdf2image\n",
        "\n",
        "from pdf2image import convert_from_path\n",
        "from pdf2image.exceptions import (\n",
        "    PDFInfoNotInstalledError,\n",
        "    PDFPageCountError,\n",
        "    PDFSyntaxError\n",
        ")\n",
        "pages=convert_from_path('/a_notas_fiscais/bruto_teste/macae/0ae323a6-9fb8-4899-90b0-123887037a21_NFSe_00003548_00027714.pdf')\n"
      ],
      "execution_count": null,
      "outputs": []
    },
    {
      "cell_type": "code",
      "metadata": {
        "id": "JZ7a2wtCosl1"
      },
      "source": [
        "# demonstração importando pasta inteira de notas \n",
        "textos = {}\n",
        "for pdf in os.listdir('/a_notas_fiscais/bruto_teste'):\n",
        "  img_pdf = convert_pdf2img(pdf)\n",
        "  for imagem in img_pdf:\n",
        "    textos[imagem] = proc(imagem)"
      ],
      "execution_count": null,
      "outputs": []
    },
    {
      "cell_type": "code",
      "metadata": {
        "id": "HOe3Sz_FjbKk"
      },
      "source": [
        "#lendo palavras do pdf>imagem>palavras (opção 1)\n",
        "def proc():\n",
        "    main_text = ''\n",
        "    for imgn in os.listdir('imgs'):\n",
        "        img = cv2.imread(f'imgs/{imgn}')\n",
        "        gray = cv2.cvtColor(img, cv2.COLOR_BGR2GRAY)\n",
        "        file = f'grays\\{imgn}.png'\n",
        "        cv2.imwrite(file,gray)\n",
        "        text=pytesseract.image_to_string(Image.open(file))\n",
        "        main_text += text.replace('\\n', '') + '\\n'\n",
        "    return main_text"
      ],
      "execution_count": null,
      "outputs": []
    },
    {
      "cell_type": "code",
      "metadata": {
        "id": "f4cPwvDrk-ab"
      },
      "source": [
        "#lendo palavras do pdf>imagem>palavras (opção 2) (testar)\n",
        "def proc():\n",
        "    main_text = ''\n",
        "    for imgn in os.listdir('imgs'):\n",
        "        img = cv2.imread(f'imgs/{imgn}')\n",
        "        gray = cv2.cvtColor(img, cv2.COLOR_BGR2GRAY)\n",
        "        text=pytesseract.image_to_string(gray)\n",
        "        main_text += text.replace('\\n', '') + '\\n'\n",
        "    return main_text"
      ],
      "execution_count": null,
      "outputs": []
    },
    {
      "cell_type": "code",
      "metadata": {
        "id": "OBf_5QiZoTNz"
      },
      "source": [
        "#demonstração de como cortar pedaço do pdf (cabeçalho)\n",
        "# from google.colab.patches import cv2_imshow # para visualizar imagem\n",
        "def proc(imgn):\n",
        "    img = cv2.imread(f'{imgn}')\n",
        "    # gray = cv2.cvtColor(img, cv2.COLOR_BGR2GRAY)\n",
        "    crop_img1 = img[25:73, 250:843].copy()\n",
        "    crop_img2 = img[10:170,20:230].copy() \n",
        "    # cv2_imshow(crop_img1) # para visualizar o corte \n",
        "    # cv2_imshow(crop_img2)\n",
        "    text=pytesseract.image_to_string(crop_img1).replace('\\n', '')\n",
        "    return [text, crop_img2] # retorna texto encontrado e imagem do brazão"
      ],
      "execution_count": null,
      "outputs": []
    },
    {
      "cell_type": "code",
      "metadata": {
        "id": "Vo5zKq3AaHol"
      },
      "source": [
        "#demonstração de tratamento do pdf para o tesseract ler melhor\n",
        "def convert_pdf2img(input_file: str, pages:tuple = None):\n",
        "    if not os.path.isdir('pasta_pdf'): os.mkdir('pasta_pdf')\n",
        "    \"\"\"Converts pdf to image and generates a file by page\"\"\"\n",
        "    # Open the document\n",
        "    pdfIn = fitz.open(input_file)\n",
        "    output_files = []\n",
        "    # Iterate throughout the pages\n",
        "    for pg in range(pdfIn.pageCount):\n",
        "        if pages is not None:\n",
        "            if str(pg) not in str(pages):\n",
        "                continue\n",
        "        # Select a page\n",
        "        page = pdfIn[pg]\n",
        "        rotate = int(0)\n",
        "        # PDF Page is converted into a whole picture 1056*816 and then for each picture a screenshot is taken.\n",
        "        # zoom = 1.33333333 -----> Image size = 1056*816\n",
        "        # zoom = 2 ---> 2 * Default Resolution (text is clear, image text is hard to read)    = filesize small / Image size = 1584*1224\n",
        "        # zoom = 4 ---> 4 * Default Resolution (text is clear, image text is barely readable) = filesize large\n",
        "        # zoom = 8 ---> 8 * Default Resolution (text is clear, image text is readable) = filesize large\n",
        "        zoom_x = 2\n",
        "        zoom_y = 2\n",
        "        # The zoom factor is equal to 2 in order to make text clear\n",
        "        # Pre-rotate is to rotate if needed.\n",
        "        mat = fitz.Matrix(zoom_x, zoom_y).preRotate(rotate)\n",
        "        pix = page.getPixmap(matrix=mat, alpha=False)\n",
        "        output_file = f\"pasta_pdf/{os.path.splitext(os.path.basename(input_file))[0]}_page{pg+1}.png\"\n",
        "        \n",
        "        pix.writePNG(output_file)\n",
        "        \n",
        "        output_files.append(output_file)\n",
        "    pdfIn.close()\n",
        "    summary = {\n",
        "        \"File\": input_file, \"Pages\": str(pages), \"Output File(s)\": str(output_files)\n",
        "    }\n",
        "    # Printing Summary\n",
        "    print(\"## Summary ########################################################\")\n",
        "    print(\"\\n\".join(\"{}:{}\".format(i, j) for i, j in summary.items()))\n",
        "    print(\"###################################################################\")\n",
        "    return output_files"
      ],
      "execution_count": null,
      "outputs": []
    },
    {
      "cell_type": "code",
      "metadata": {
        "id": "GNmdrE5WpL8Z"
      },
      "source": [
        "#demonstração de como salvar as palavras e as classes (municipios)\n",
        "\n",
        "# palvras palaavras sao paulo palavras | classe1\n",
        "# palvras palaavras sao paulo palavras | classe1\n",
        "# palvras palaavras sao paulo palavras | classe1\n",
        "# Treino 70% ~ 85% das notas \n",
        "# Teste 30% ~ 15% das notas\n",
        "# (76% train - 12% validation - 12% test)\n",
        "\n",
        "esperado = array_de_classes\n",
        "treino = array_de_textos\n",
        "\n",
        "teste = array_de_textos_teste\n",
        "validacao = array_de_classes_teste"
      ],
      "execution_count": null,
      "outputs": []
    },
    {
      "cell_type": "markdown",
      "metadata": {
        "id": "LN5tiOj2ByzT"
      },
      "source": [
        "Ideia 2\n",
        "\n",
        "Não usar machine learning, e sim a função thefuzz que agrupa palavras parecidas. A leitura com opencv e tesseract continuam iguais à ideia 1."
      ]
    },
    {
      "cell_type": "code",
      "metadata": {
        "id": "9DW2Yg6jlPqU"
      },
      "source": [
        "#demonstração da lógica fuzz \n",
        "import fuzzywuzzy\n",
        "from fuzzywuzzy import fuzz\n",
        "from fuzzywuzzy import process\n",
        "fuzz.token_set_ratio(\"NotaPREFEITURA DA CIDADE DO RIO  JANEIRO\", \"Rio de Janeiro\")"
      ],
      "execution_count": null,
      "outputs": []
    },
    {
      "cell_type": "markdown",
      "metadata": {
        "id": "sGwdjhTqC2FP"
      },
      "source": [
        "Ideia 3\n",
        "\n",
        "Fazer reconhecimento apenas por imagem do brasão da cidade (abordagem diferente)"
      ]
    }
  ]
}